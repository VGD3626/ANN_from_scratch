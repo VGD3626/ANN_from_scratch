{
  "nbformat": 4,
  "nbformat_minor": 0,
  "metadata": {
    "colab": {
      "provenance": []
    },
    "kernelspec": {
      "name": "python3",
      "display_name": "Python 3"
    },
    "language_info": {
      "name": "python"
    }
  },
  "cells": [
    {
      "cell_type": "code",
      "execution_count": null,
      "metadata": {
        "id": "_DzgXVflcZc_"
      },
      "outputs": [],
      "source": [
        "import numpy as np\n",
        "import pandas as pd"
      ]
    },
    {
      "cell_type": "markdown",
      "source": [
        "Initializing hyper-parameters"
      ],
      "metadata": {
        "id": "8hX-ItShcq6X"
      }
    },
    {
      "cell_type": "code",
      "source": [
        "N = [4,3,7,1] # 4th one is o/p layer\n",
        "N"
      ],
      "metadata": {
        "id": "mGd57hN8cgRr",
        "colab": {
          "base_uri": "https://localhost:8080/"
        },
        "outputId": "27fbca8f-7915-4298-841c-161a5160d247"
      },
      "execution_count": null,
      "outputs": [
        {
          "output_type": "execute_result",
          "data": {
            "text/plain": [
              "[4, 3, 7, 1]"
            ]
          },
          "metadata": {},
          "execution_count": 65
        }
      ]
    },
    {
      "cell_type": "code",
      "source": [
        "# X = [[1,3,0],\n",
        "#      [1,2,4],\n",
        "#      [1,2,5],\n",
        "#      [3,9,9],\n",
        "#      [7,0,0],\n",
        "#      [9,0,5],\n",
        "#      [3,6,5],\n",
        "#      [3,5,9],\n",
        "#      [1,35,5],\n",
        "#      [3,54,5],\n",
        "#      [7,5,0],\n",
        "#      [3,8,0],\n",
        "#      [8,5,5],\n",
        "#      [11,1,1],\n",
        "#      [9,0,6],\n",
        "#      [1,4,7],\n",
        "#      [2,3,4],\n",
        "#      [1,9,9]]\n",
        "# X = np.array(X)\n",
        "# y = np.array([[1],\n",
        "#      [0],\n",
        "#      [1],\n",
        "#      [1],\n",
        "#      [1],\n",
        "#      [0],\n",
        "#      [0],\n",
        "#      [1],\n",
        "#      [0],\n",
        "#      [0],\n",
        "#      [1],\n",
        "#      [0],\n",
        "#      [1],\n",
        "#      [1],\n",
        "#      [1],\n",
        "#      [0],\n",
        "#      [1],\n",
        "#      [1]])\n",
        "# X\n",
        "df = pd.read_csv('/content/drive/MyDrive/mushroom_cleaned.csv')\n",
        "X = df.iloc[:,:-1]\n",
        "y = df.iloc[:,-1]\n",
        "X = np.array(X)\n",
        "y = np.array(y)\n",
        "print(X, y)"
      ],
      "metadata": {
        "id": "2jbglUcedbeY",
        "colab": {
          "base_uri": "https://localhost:8080/"
        },
        "outputId": "3e4040ac-4d4d-4fac-9945-03ceed4342b7"
      },
      "execution_count": null,
      "outputs": [
        {
          "output_type": "stream",
          "name": "stdout",
          "text": [
            "[[1.37200000e+03 2.00000000e+00 2.00000000e+00 ... 1.54500000e+03\n",
            "  1.10000000e+01 1.80427271e+00]\n",
            " [1.46100000e+03 2.00000000e+00 2.00000000e+00 ... 1.55700000e+03\n",
            "  1.10000000e+01 1.80427271e+00]\n",
            " [1.37100000e+03 2.00000000e+00 2.00000000e+00 ... 1.56600000e+03\n",
            "  1.10000000e+01 1.80427271e+00]\n",
            " ...\n",
            " [8.20000000e+01 5.00000000e+00 3.00000000e+00 ... 5.84000000e+02\n",
            "  1.20000000e+01 8.88450288e-01]\n",
            " [7.90000000e+01 2.00000000e+00 3.00000000e+00 ... 4.91000000e+02\n",
            "  1.20000000e+01 8.88450288e-01]\n",
            " [7.20000000e+01 5.00000000e+00 3.00000000e+00 ... 4.92000000e+02\n",
            "  1.20000000e+01 8.88450288e-01]] [1 1 1 ... 1 1 1]\n"
          ]
        }
      ]
    },
    {
      "cell_type": "markdown",
      "source": [
        "Creating the class"
      ],
      "metadata": {
        "id": "vrLgsUtFV1Jq"
      }
    },
    {
      "cell_type": "code",
      "source": [
        "class NeuralNetwork:\n",
        "\n",
        "  def __init__(self, n):\n",
        "    self.n = n\n",
        "    self.C = 0\n",
        "    self.L = len(n)\n",
        "    self.W = [[]]*(self.L+1)\n",
        "    self.b = [[]]*(self.L+1)\n",
        "    self.a = [[]]*(self.L+1)\n",
        "    self.Z = [[]]*(self.L+1)\n",
        "    self.dW = [[]]*(self.L+1)\n",
        "    self.db = [[]]*(self.L+1)\n",
        "    self.da = [[]]*(self.L+1)\n",
        "    self.dZ = [[]]*(self.L+1)\n",
        "\n",
        "  def fit(self, X, y, epochs, alpha):\n",
        "    self.n.insert(0, X.shape[1])\n",
        "    # print(self.n)\n",
        "\n",
        "    for l in range(1, self.L+1):\n",
        "       self.W[l] = np.random.rand(self.n[l], self.n[l-1])*0.01\n",
        "       self.b[l] = np.random.rand(self.n[l], 1)\n",
        "       self.Z[l] = np.random.rand(self.n[l], 1)\n",
        "    # for i in range(1, len(self.W)):\n",
        "    #   print(self.W[i].shape)\n",
        "    for e in range(epochs):\n",
        "      c=0\n",
        "      true_pred = 0\n",
        "      for i in range(X.shape[0]): # iterating through all the training examples\n",
        "        X_i = X[i]\n",
        "        y_i = y[i]\n",
        "        self.forward_prop(X_i)\n",
        "        self.C +=  self.calc_cost(y_i)\n",
        "        self.back_prop(y_i)\n",
        "        self.update_params(alpha)\n",
        "        y_pred = self.predict(X_i)\n",
        "\n",
        "        y_pred = (y_pred>=0.5)\n",
        "\n",
        "        if y_pred == y_i:\n",
        "          true_pred += 1\n",
        "\n",
        "    print('accuracy: ', true_pred/y.shape[0])\n",
        "\n",
        "\n",
        "  def sigmoid(self, x):\n",
        "    return 1/(1+np.exp(-x))\n",
        "\n",
        "\n",
        "  def sigma_prime(self, x):\n",
        "    return self.sigmoid(x)*(1.0-self.sigmoid(x))\n",
        "\n",
        "\n",
        "  def forward_prop(self, X):\n",
        "    self.a[0] = X.reshape(X.shape[0],1)\n",
        "    for l in range(1,self.L+1):\n",
        "      self.Z[l] = np.dot(self.W[l], self.a[l-1])+self.b[l]\n",
        "      self.a[l] = self.sigmoid(self.Z[l])\n",
        "      # print(self.Z[l])\n",
        "\n",
        "\n",
        "  def back_prop(self, y):\n",
        "    self.dZ[self.L] = self.a[self.L] - y\n",
        "    self.dW[self.L] = np.dot(self.dZ[self.L], np.transpose(self.a[self.L-1]))\n",
        "    self.db[self.L] = self.dZ[self.L]\n",
        "\n",
        "    # print(self.W[self.L].shape, self.dZ[self.L].shape, self.a[self.L].shape)\n",
        "\n",
        "    for l in range(self.L-1, 0, -1):\n",
        "      # print(np.dot(self.dZ[l+1], np.transpose(self.W[l+1])).shape, self.Z[l].shape)\n",
        "      self.dZ[l] = np.dot(np.transpose(self.W[l+1]), self.dZ[l+1])*self.sigma_prime(self.Z[l])\n",
        "      self.dW[l] = np.dot(self.dZ[l], np.transpose(self.a[l-1]))\n",
        "      self.db[l] = self.dZ[l]\n",
        "\n",
        "\n",
        "  def calc_cost(self, y):\n",
        "    return -(y*np.log(self.a[self.L])+(1-y)*np.log(1 - self.a[self.L]))\n",
        "\n",
        "\n",
        "  def update_params(self, alpha):\n",
        "    for l in range(1, self.L+1):\n",
        "      self.b[l] -= alpha*self.db[l]\n",
        "      self.W[l] -= alpha*self.dW[l]\n",
        "\n",
        "  def predict(self, x):\n",
        "    self.forward_prop(x)\n",
        "    return self.a[self.L][0]\n",
        "\n"
      ],
      "metadata": {
        "id": "u0uzz9F29Qyf"
      },
      "execution_count": null,
      "outputs": []
    },
    {
      "cell_type": "code",
      "source": [
        "nn = NeuralNetwork(N)\n",
        "nn.fit(X, y, 100, 0.03)"
      ],
      "metadata": {
        "colab": {
          "base_uri": "https://localhost:8080/"
        },
        "id": "PTHgb--1MhNi",
        "outputId": "68e8f55a-bbcf-47e3-ca0f-57d15eea7553"
      },
      "execution_count": null,
      "outputs": [
        {
          "output_type": "stream",
          "name": "stdout",
          "text": [
            "accuracy:  0.8592763949292126\n"
          ]
        }
      ]
    },
    {
      "cell_type": "code",
      "source": [
        "l = []*3\n",
        "l.append(np.random.rand(2,3))\n",
        "l.append([])\n",
        "l.append([2,2])\n",
        "l"
      ],
      "metadata": {
        "id": "F9o2i6XgWIEH",
        "colab": {
          "base_uri": "https://localhost:8080/"
        },
        "outputId": "927d2340-3f1b-44d8-967f-fd6583187f84"
      },
      "execution_count": null,
      "outputs": [
        {
          "output_type": "execute_result",
          "data": {
            "text/plain": [
              "[array([[0.34547482, 0.35472953, 0.09141741],\n",
              "        [0.04883143, 0.14437212, 0.08934149]]),\n",
              " [],\n",
              " [2, 2]]"
            ]
          },
          "metadata": {},
          "execution_count": 69
        }
      ]
    },
    {
      "cell_type": "code",
      "source": [],
      "metadata": {
        "id": "Ql3OlrSZbSXH"
      },
      "execution_count": null,
      "outputs": []
    }
  ]
}